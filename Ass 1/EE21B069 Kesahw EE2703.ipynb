{
 "cells": [
  {
   "cell_type": "markdown",
   "id": "90d271f4",
   "metadata": {},
   "source": [
    "## Numerical types"
   ]
  },
  {
   "cell_type": "code",
   "execution_count": 17,
   "id": "1e2d2e6e",
   "metadata": {},
   "outputs": [
    {
     "name": "stdout",
     "output_type": "stream",
     "text": [
      "2.4\n"
     ]
    }
   ],
   "source": [
    "print(12 / 5)"
   ]
  },
  {
   "cell_type": "markdown",
   "id": "25ed67a2",
   "metadata": {},
   "source": [
    "The \"/ \" operator divides floating-point values, hence it always returns a float value. In this case, the division return 2.4"
   ]
  },
  {
   "cell_type": "code",
   "execution_count": 18,
   "id": "1b587eb7",
   "metadata": {},
   "outputs": [
    {
     "name": "stdout",
     "output_type": "stream",
     "text": [
      "2\n"
     ]
    }
   ],
   "source": [
    "print(12 // 5)"
   ]
  },
  {
   "cell_type": "markdown",
   "id": "e5da61cd",
   "metadata": {},
   "source": [
    "The \"//\" operator performs integer division, which means it produces a whole number while discarding the division's remainder. In this case, the division result is 2."
   ]
  },
  {
   "cell_type": "code",
   "execution_count": 19,
   "id": "97a6c535",
   "metadata": {},
   "outputs": [
    {
     "name": "stdout",
     "output_type": "stream",
     "text": [
      "10 10 1.0\n"
     ]
    }
   ],
   "source": [
    "a=b=10\n",
    "print(a,b,a/b)"
   ]
  },
  {
   "cell_type": "markdown",
   "id": "212c567f",
   "metadata": {},
   "source": [
    "In the given code first assigns the value \"10\" to the variable \"b\", and then assigns the same value to variable \"a\". The \"= \" operator is used to assign a value to a variable. The \"print()\" function is then used to output the values of \"a\", \"b\", and the division of \"a/b\". The \"/\" operator divides floating-point numbers and returns a decimal value. In this case, the division value is 1.0."
   ]
  },
  {
   "cell_type": "markdown",
   "id": "af329d1c",
   "metadata": {},
   "source": [
    "## Strings and related operations"
   ]
  },
  {
   "cell_type": "code",
   "execution_count": 20,
   "id": "ba913542",
   "metadata": {},
   "outputs": [
    {
     "name": "stdout",
     "output_type": "stream",
     "text": [
      "Hello \n"
     ]
    }
   ],
   "source": [
    "a = \"Hello \"\n",
    "print(a)"
   ]
  },
  {
   "cell_type": "markdown",
   "id": "d347a7b1",
   "metadata": {},
   "source": [
    "The \"= \" operator is used to assign a value to the \"a\" variable. The string \"Hello\" is given to the variable \"a\" on the first line. The \"print()\" function is used to print the value of a, which is \"Hello,\" on the screen as a output."
   ]
  },
  {
   "cell_type": "code",
   "execution_count": 21,
   "id": "ad0e046b",
   "metadata": {},
   "outputs": [
    {
     "ename": "TypeError",
     "evalue": "can only concatenate str (not \"int\") to str",
     "output_type": "error",
     "traceback": [
      "\u001b[1;31m---------------------------------------------------------------------------\u001b[0m",
      "\u001b[1;31mTypeError\u001b[0m                                 Traceback (most recent call last)",
      "Cell \u001b[1;32mIn[21], line 1\u001b[0m\n\u001b[1;32m----> 1\u001b[0m \u001b[39mprint\u001b[39m(a\u001b[39m+\u001b[39;49mb)  \u001b[39m# Output should contain \"Hello 10\" \u001b[39;00m\n",
      "\u001b[1;31mTypeError\u001b[0m: can only concatenate str (not \"int\") to str"
     ]
    }
   ],
   "source": [
    "print(a+b)  # Output should contain \"Hello 10\" "
   ]
  },
  {
   "cell_type": "markdown",
   "id": "afcdd41f",
   "metadata": {},
   "source": [
    "The \"+\" operator is used to concatenate strings. In this case, the value of variable \"a\" is \"Hello,\" and the value of variable \"b\" is \"10,\" which is a number. When we try to concatenate a string and a number, we get a TypeError since we can't concatenate a string and number directly."
   ]
  },
  {
   "cell_type": "code",
   "execution_count": null,
   "id": "dab01f95",
   "metadata": {},
   "outputs": [
    {
     "name": "stdout",
     "output_type": "stream",
     "text": [
      "Hello 10\n"
     ]
    }
   ],
   "source": [
    "print(a + str(b))"
   ]
  },
  {
   "cell_type": "markdown",
   "id": "31727324",
   "metadata": {},
   "source": [
    "The value of variable \"a\" is \"Hello\" and the value of variable \"b\" is \"10,\" which is a number, we will get a TypeError since we cannot concatenate text and number directly. So we use the \"str()\" function to convert the value of b to a string. So the line a + \"str(b)\" will concatenate the string \"Hello \" with the string \"10\" to form a new string \"Hello 10\"."
   ]
  },
  {
   "cell_type": "code",
   "execution_count": null,
   "id": "e2793fa4",
   "metadata": {},
   "outputs": [],
   "source": [
    "# Print out a line of 40 '-' signs (to look like one long line)\n",
    "# Then print the number 42 so that it is right justified to the end of \n",
    "# the above line\n",
    "# Then print one more line of length 40, but with the pattern '*-*-*-' \n"
   ]
  },
  {
   "cell_type": "code",
   "execution_count": null,
   "id": "dbf05d60",
   "metadata": {},
   "outputs": [
    {
     "name": "stdout",
     "output_type": "stream",
     "text": [
      "----------------------------------------\n",
      "                                      42\n",
      "*-*-*-*-*-*-*-*-*-*-*-*-*-*-*-*-*-*-*-*-\n"
     ]
    }
   ],
   "source": [
    "print(\"-\" * 40)\n",
    "print(\" \"*38 + \"42\")\n",
    "print(\"*-*-*-*-\" * 5)"
   ]
  },
  {
   "attachments": {},
   "cell_type": "markdown",
   "id": "4a7ba2fd",
   "metadata": {},
   "source": [
    "The first line use the \"*\" operator to repeat the \"-\" character 40 times, resulting in a line of 40 \"-\" signs. The \"print()\" function is then used to display this line on the screen as a output.\n",
    "The second line use the \"*\" operator to repeat the \" \" character 38 times to concatenate the number 42 to it. The \"print()\" function is then used to display this line on the screen as an output.\n",
    "The third line use the \"*\" operator to repeat the \"*-*-*-*\" pattern 5 times, yielding a line of 40 characters. The \"print()\" method is then used to display this line on the screen as an output."
   ]
  },
  {
   "cell_type": "code",
   "execution_count": null,
   "id": "9b4e1f03",
   "metadata": {},
   "outputs": [
    {
     "name": "stdout",
     "output_type": "stream",
     "text": [
      "The variable 'a' has the value Hello  and 'b' has the value         10\n"
     ]
    }
   ],
   "source": [
    "print(f\"The variable 'a' has the value {a} and 'b' has the value {b:>10}\")"
   ]
  },
  {
   "cell_type": "markdown",
   "id": "0dfcfdc2",
   "metadata": {},
   "source": [
    "This code use an f-string (also known as a \"formatted string literal\") to output a string containing the values of the variables \"a\" and \"b\" as well as some text.\n",
    "The letter f or F is followed by a double-quote (\") or single-quote (') character in the f-string. Curly brackets {} are used within the string to indicate where variable values should be put.\n",
    "In this case, the f-string has the text \"The variable 'a' has the value \", followed by the value of the variable \"a\" (in this case \"Hello \"), and then the text \"and 'b' has the value \", followed by the value of the variable \"b\" (in this case 10), right justified with 10 spaces."
   ]
  },
  {
   "cell_type": "code",
   "execution_count": null,
   "id": "9d746f81",
   "metadata": {},
   "outputs": [],
   "source": [
    "# Create a list of dictionaries where each entry in the list has two keys:\n",
    "# - id: this will be the ID number of a course, for example 'EE2703'\n",
    "# - name: this will be the name, for example 'Applied Programming Lab'\n",
    "# Add 3 entries:\n",
    "# EE2703 -> Applied Programming Lab\n",
    "# EE2003 -> Computer Organization\n",
    "# EE5311 -> Digital IC Design\n",
    "# Then print out the entries in a neatly formatted table where the \n",
    "# ID number is left justified\n",
    "# to 10 spaces and the name is right justified to 40 spaces.  \n",
    "# That is it should look like:\n",
    "\n",
    "# EE2703                     Applied Programming Lab\n",
    "# EE2003                       Computer Organization\n",
    "# EE5131                           Digital IC Design\n"
   ]
  },
  {
   "cell_type": "code",
   "execution_count": null,
   "id": "118ee414",
   "metadata": {},
   "outputs": [
    {
     "name": "stdout",
     "output_type": "stream",
     "text": [
      "EE2703                      Applied Programming Lab\n",
      "EE2003                        Computer Organization\n",
      "EE5311                            Digital IC Design\n"
     ]
    }
   ],
   "source": [
    "courses = [    {\"id\": \"EE2703\", \"name\": \"Applied Programming Lab\"},    \n",
    "                {\"id\": \"EE2003\", \"name\": \"Computer Organization\"},    \n",
    "                {\"id\": \"EE5311\", \"name\": \"Digital IC Design\"}]\n",
    "\n",
    "for course in courses:\n",
    "    print(\"{:<10} {:>40}\".format(course[\"id\"], course[\"name\"]))\n"
   ]
  },
  {
   "cell_type": "markdown",
   "id": "b51c4bb2",
   "metadata": {},
   "source": [
    "The list \"courses\" has three dictionaries, each of which represents a \"course\" with an ID number and a name.\n",
    "The \"for loop\" iterates through the list, formatting the result with \"format()\".\n",
    "The format specifier \"{:<10}\" left-justifies the \"course[\"id\"]\" string to ten spaces.\n",
    "The format specifier \"{:>40}\" right-justifies the string \"course[\"name\"]\" to 40 spaces."
   ]
  },
  {
   "cell_type": "markdown",
   "id": "959169d6",
   "metadata": {},
   "source": [
    "# Functions for general manipulation"
   ]
  },
  {
   "cell_type": "code",
   "execution_count": null,
   "id": "fb799573",
   "metadata": {},
   "outputs": [],
   "source": [
    "# Write a function with name 'twosc' that will take a single integer \n",
    "# as input, and print out the binary representation of the number \n",
    "# as output.  The function should take one other optional parameter N \n",
    "# which represents the number of bits.  The final result should always \n",
    "# contain N characters as output (either 0 or 1) and should use \n",
    "# two's complement to represent the number if it is negative.\n",
    "# Examples:\n",
    "# twosc(10): 0000000000001010\n",
    "# twosc(-10): 1111111111110110\n",
    "# twosc(-20, 8): 11101100\n",
    "#\n",
    "# Use only functions from the Python standard library to do this.\n",
    "def twosc(x, N=16):\n",
    "    pass"
   ]
  },
  {
   "cell_type": "code",
   "execution_count": null,
   "id": "0895ef42",
   "metadata": {},
   "outputs": [
    {
     "name": "stdout",
     "output_type": "stream",
     "text": [
      "0000000000001010\n",
      "1111111111110110\n",
      "11101100\n"
     ]
    }
   ],
   "source": [
    "def twosc(x, N=16):\n",
    "    if x >= 0:\n",
    "        binary = bin(x)[2:].zfill(N)\n",
    "    else:\n",
    "        binary = bin(2**N + x)[2:]\n",
    "        binary = binary[-N:]\n",
    "    print(binary)\n",
    "twosc(10)\n",
    "twosc(-10)\n",
    "twosc(-20, 8)"
   ]
  },
  {
   "cell_type": "markdown",
   "id": "eda9cdd6",
   "metadata": {},
   "source": [
    "The function accepts an integer \"x\" as well as an optional argument \"N\" representing the number of bits. \"N\" has the default value of 16.\n",
    "If \"x\" is positive, it uses the \"bin()\" function to convert it to binary and eliminates the leading \"0b\" prefix. The resulting binary string is then padded on the left with \"0s\" using \"zfill(N)\" until it is the desired length \"N\".\n",
    "If \"x\" is negative, it calculates its two's complement by adding \"2**N\" and converting the result to binary, removing the leading \"0b\" prefix. The resultant binary string is then sliced so that just the final N characters are kept.\n",
    "The binary string is then printed as output."
   ]
  },
  {
   "cell_type": "markdown",
   "id": "d9845f63",
   "metadata": {},
   "source": [
    "# List comprehensions and decorators"
   ]
  },
  {
   "cell_type": "code",
   "execution_count": null,
   "id": "9f573a70-d7f0-4496-926f-34b7cff5492f",
   "metadata": {},
   "outputs": [
    {
     "data": {
      "text/plain": [
       "[0, 4, 16, 36, 64]"
      ]
     },
     "execution_count": 11,
     "metadata": {},
     "output_type": "execute_result"
    }
   ],
   "source": [
    "# Explain the output you see below\n",
    "[x*x for x in range(10) if x%2 == 0]"
   ]
  },
  {
   "cell_type": "markdown",
   "id": "25cda53b",
   "metadata": {},
   "source": [
    "This code provides a list comprehension that generates a list of squares of even values between 0 to 9. The \"range(10) \" function returns a number sequence range from 0 to 9. If \" x%2 == 0\", the if clause filters the numbers in the sequence such that only even numbers are used in list comprehension. Each even integer is squared in the expression \"x*x\". Finally, the output is a list of squares of even values between 0 and 9."
   ]
  },
  {
   "cell_type": "code",
   "execution_count": null,
   "id": "d34ddb81-5caf-40a7-ac1f-43ce08d64220",
   "metadata": {},
   "outputs": [
    {
     "data": {
      "text/plain": [
       "[1, 2, 3, 4, 5, 6, 7, 8, 9]"
      ]
     },
     "execution_count": 1,
     "metadata": {},
     "output_type": "execute_result"
    }
   ],
   "source": [
    "# Explain the output you see below\n",
    "matrix = [[1,2,3], [4,5,6], [7,8,9]]\n",
    "[v for row in matrix for v in row]"
   ]
  },
  {
   "cell_type": "markdown",
   "id": "d419d151",
   "metadata": {},
   "source": [
    "To compress a 2-dimensional list into a 1-dimensional list, this code use layered list comprehension. Here's what's going on. The outer list comprehension \"[v for row in matrix for v in row]\" loops across the \"rows\" in the matrix.\n",
    "The inner list comprehension for \"v\" in \"row\" iterates over each \"row\"  values \"V\". As a result, a 1-dimensional list of all the values in the \"matrix\" [1, 2, 3, 4, 5, 6, 7, 8, 9] is a output of the code."
   ]
  },
  {
   "cell_type": "code",
   "execution_count": null,
   "id": "e7349601-a068-4d91-bc0f-bcc755c4b215",
   "metadata": {},
   "outputs": [],
   "source": [
    "# Define a function `is_prime(x)` that will return True if a number \n",
    "# is prime, or False otherwise.\n",
    "# Use it to write a one-line statement that will print all \n",
    "# prime numbers between 1 and 100"
   ]
  },
  {
   "cell_type": "code",
   "execution_count": null,
   "id": "80527bd7",
   "metadata": {},
   "outputs": [
    {
     "name": "stdout",
     "output_type": "stream",
     "text": [
      "[2, 3, 5, 7, 11, 13, 17, 19, 23, 29, 31, 37, 41, 43, 47, 53, 59, 61, 67, 71, 73, 79, 83, 89, 97]\n"
     ]
    }
   ],
   "source": [
    "def is_prime(x):\n",
    "    if x < 2:\n",
    "        return False\n",
    "    for i in range(2, int(x**0.5)+1):\n",
    "        if x % i == 0:\n",
    "            return False\n",
    "    return True\n",
    "print([x for x in range(1, 101) if is_prime(x)])"
   ]
  },
  {
   "cell_type": "markdown",
   "id": "4bf4f34a",
   "metadata": {},
   "source": [
    "The function takes a single integer \"x\" as input.\n",
    "Because 2 is the lowest prime number, if \"x\" is smaller than 2, it returns False.\n",
    "It then loops over all numbers from 2 to the square root of \"x + 1\" (since a number cannot have a factor bigger than its square root) and uses the modulo operator \"%\" to check if \"x\" is divisible by any of them.\n",
    "If a factor is found, the function returns False; otherwise, it returns True."
   ]
  },
  {
   "cell_type": "code",
   "execution_count": null,
   "id": "3dd1087b-f384-41a2-88d8-6788336d2291",
   "metadata": {},
   "outputs": [
    {
     "name": "stdout",
     "output_type": "stream",
     "text": [
      "Hello happy flappy world\n"
     ]
    }
   ],
   "source": [
    "# Explain the output below\n",
    "def f1(x):\n",
    "    return \"happy \" + x\n",
    "def f2(f):\n",
    "    def wrapper(*args, **kwargs):\n",
    "        return \"Hello \" + f(*args, **kwargs) + \" world\"\n",
    "    return wrapper\n",
    "f3 = f2(f1)\n",
    "print(f3(\"flappy\"))"
   ]
  },
  {
   "cell_type": "markdown",
   "id": "bcb62823",
   "metadata": {},
   "source": [
    "This code declares two functions, \"f1\" and \"f2\", and then creates a third function, \"f3\", by calling f2 with f1 as an argument. \" f1\" is a simple function that accepts a single parameter, \" x\", and returns the string \"happy\" + x. \" f\"2\" is a higher-order function that takes an argument from another function\" f\" and returns a new function wrapper. Wrapper is a closure that can accept any number of arguments \"*args\" and keyword arguments \"**kwargs**\". It returns the string \"Hello\" + f(*args, **kwargs) + \"world\" , where \"f\" is the function passed as an argument to \"f2\". The result of calling \"f2\" with \"f1\" as an argument is given to \"f3\". The output of executing \"f3\" with the input \"flappy\" is \"Hello happy flappy world\"."
   ]
  },
  {
   "cell_type": "code",
   "execution_count": null,
   "id": "ede870a7-6564-4930-9ff1-818f075c3e43",
   "metadata": {},
   "outputs": [
    {
     "name": "stdout",
     "output_type": "stream",
     "text": [
      "Hello nappy flappy world\n"
     ]
    }
   ],
   "source": [
    "# Explain the output below\n",
    "@f2\n",
    "def f4(x):\n",
    "    return \"nappy \" + x\n",
    "\n",
    "print(f4(\"flappy\"))"
   ]
  },
  {
   "cell_type": "markdown",
   "id": "de144cc1-a06a-4e96-8017-7887296dddc0",
   "metadata": {},
   "source": [
    "# File IO"
   ]
  },
  {
   "cell_type": "code",
   "execution_count": null,
   "id": "09e62f52-fec6-4026-a4d8-ca4b87b19732",
   "metadata": {},
   "outputs": [],
   "source": [
    "# Write a function to generate prime numbers from 1 to N (input)\n",
    "# and write them to a file (second argument).  You can reuse the prime\n",
    "# detection function written earlier.\n",
    "def write_primes(N, filename):\n",
    "    pass"
   ]
  },
  {
   "cell_type": "code",
   "execution_count": 23,
   "id": "ed70b47b",
   "metadata": {},
   "outputs": [],
   "source": [
    "def write_primes(N, filename):\n",
    "    with open(filename, 'w') as f:\n",
    "        for i in range(1, N+1):\n",
    "            if is_prime(i):\n",
    "                f.write(str(i) + '\\n')\n",
    "N=int(input(\"Enter a number\"))\n",
    "write_primes(N,\"prime.txt\")"
   ]
  },
  {
   "cell_type": "markdown",
   "id": "3b98bd4b",
   "metadata": {},
   "source": [
    "The \"write_primes\" function accepts two parameters, \"N\" and \"filename,\" where \"N\" is the upper limit for the number range to check for primality and \"filename\" is the name of the file to which the prime numbers will be written. The function opens the file supplied by \"filename\" in write mode and iterates over the integers \"1\" to \"N\"(inclusive) using a for a loop. The function uses the \"is_prime\" function to determine whether an integer is a prime or Not. If the integer is prime, the function saves it as a string followed by a newline character to the file. This process is repeated until all prime numbers ranging from \"1\"  to \"N\" have been written to the file."
   ]
  },
  {
   "cell_type": "markdown",
   "id": "9b2de5cb-13c3-4804-9576-e7bb6fd3a371",
   "metadata": {},
   "source": [
    "# Exceptions"
   ]
  },
  {
   "cell_type": "code",
   "execution_count": null,
   "id": "eec5626e-6e92-45bf-b307-2459de0f44e1",
   "metadata": {},
   "outputs": [],
   "source": [
    "# Write a function that takes in a number as input, and prints out \n",
    "# whether it is a prime or not.  If the input is not an integer,\n",
    "# print an appropriate error message.  Use exceptions to detect problems.\n",
    "def check_prime(x):\n",
    "    pass\n",
    "x = input('Enter a number: ')\n",
    "check_prime(x)"
   ]
  },
  {
   "cell_type": "code",
   "execution_count": null,
   "id": "9f12acf1",
   "metadata": {},
   "outputs": [
    {
     "name": "stdout",
     "output_type": "stream",
     "text": [
      "5 is a prime number\n"
     ]
    }
   ],
   "source": [
    "def check_prime(x):\n",
    "    try:\n",
    "        if(isinstance(x,str)):\n",
    "            x=int(x)\n",
    "        if (isinstance(x, int)) == True:\n",
    "            if x <= 1:\n",
    "                print(f'{x} is not a prime number')\n",
    "            else:\n",
    "                for i in range(2, int(x**0.5) + 1):\n",
    "                    if x % i == 0:\n",
    "                        c=0\n",
    "                        break\n",
    "                    else:\n",
    "                        c=1\n",
    "                if c==0:\n",
    "                    print(f'{x} is not a prime number')\n",
    "                else:\n",
    "                    print(f'{x} is a prime number')\n",
    "        else:\n",
    "            print(\"Invalid input: Please enter an integer\")\n",
    "                    \n",
    "    except ValueError:\n",
    "        print(\"Invalid input: Please enter an integer\")\n",
    "x = input('Enter a Number')\n",
    "check_prime(x)"
   ]
  },
  {
   "cell_type": "markdown",
   "id": "020ff9b8",
   "metadata": {},
   "source": [
    "The \"try-except\" block is used to handle exceptions (error situations) that may arise during code execution. It enables the code to continue operating in the event of an error. The \"try\" block in the code includes the code that might throw an exception, and the \"except\" block contains the code that will be performed if an exception is thrown. If a non-integer input is entered, a \"ValueError\" is thrown and the message \"Invalid input: Please provide an integer\" is printed. This prevents the application from crashing and allows it to continue running even if an error occurs."
   ]
  },
  {
   "cell_type": "markdown",
   "id": "1ce0e083",
   "metadata": {},
   "source": [
    "A given number is a prime number or not.  It first verifies whether the input is an integer. If the input is not an integer, the error message \"Invalid input: Please enter an integer\" is printed.\n",
    "\n",
    "If the input is an integer, it first checks if the number is less than or equal to \"1\". If the answer is yes, the number is not a prime number. If the input number is bigger than \"1,\" a for loop is used to determine if the number is divisible by any number between \"2\" and its square root of the number \"x\" rounded up to the close integer. If the number is divisible by any of these values, then \"c\" become \"0\" and break it ( if a number have any factor then it's not a prime ) otherwise it's become \"1\". And if \"c\" is equal to \"0\" the message \"not a prime number\" is printed. If the \"c\" is \"1\", then it is printed as a prime number.\n",
    "\n",
    "If the input is not an integer and cannot be transformed to one, a \"ValueError\" will be raised. The code catches this issue with a \"try-except\" block and produces the proper error message in that situation."
   ]
  }
 ],
 "metadata": {
  "authors": [
   {
    "name": "Keshaw Choudhary <ee21b069@smail.iitm.ac.in>"
   }
  ],
  "kernelspec": {
   "display_name": "Python 3 (ipykernel)",
   "language": "python",
   "name": "python3"
  },
  "language_info": {
   "codemirror_mode": {
    "name": "ipython",
    "version": 3
   },
   "file_extension": ".py",
   "mimetype": "text/x-python",
   "name": "python",
   "nbconvert_exporter": "python",
   "pygments_lexer": "ipython3",
   "version": "3.9.13"
  },
  "title": "EE2703 - Week 1",
  "toc-autonumbering": true,
  "vscode": {
   "interpreter": {
    "hash": "a819fe921b19c63b18c63d2a9f8ac400ffdc4608e9b77c52f1648f83c5b4f627"
   }
  }
 },
 "nbformat": 4,
 "nbformat_minor": 5
}
