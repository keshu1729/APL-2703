{
 "cells": [
  {
   "cell_type": "markdown",
   "metadata": {},
   "source": [
    "# Week 5 Polygon Animation"
   ]
  },
  {
   "cell_type": "code",
   "execution_count": 11,
   "metadata": {},
   "outputs": [],
   "source": [
    "%matplotlib ipympl\n",
    "import numpy as np\n",
    "import matplotlib.pyplot as plt\n",
    "from matplotlib.animation import FuncAnimation"
   ]
  },
  {
   "cell_type": "code",
   "execution_count": 12,
   "metadata": {},
   "outputs": [],
   "source": [
    "def cornerPts(n):\n",
    "    angles = np.linspace(0, 2*np.pi, n, endpoint=False)\n",
    "    x_axis = np.cos(angles)\n",
    "    y_axis = np.sin(angles)\n",
    "    return x_axis, y_axis\n"
   ]
  },
  {
   "cell_type": "markdown",
   "metadata": {},
   "source": [
    "This function takes an integer n as input. It returns two arrays, x axis and y axis, containing the x and y coordinates of n evenly spaced points. Here is how it works:\n",
    "Using the np.linspace function, it first generates an array of n angles ranging from 0 to 2 radians.\n",
    "The x_axis and y_axis coordinates of these angles are then calculated using the np.cos and np.sin functions, respectively.\n",
    "Lastly, it returns the arrays x_axis and y_axis."
   ]
  },
  {
   "cell_type": "code",
   "execution_count": 13,
   "metadata": {},
   "outputs": [],
   "source": [
    "def map(n):\n",
    "    x, y = cornerPts(n)\n",
    "    x_axis = np.repeat(x, 2)\n",
    "    y_axis = np.repeat(y, 2)\n",
    "    x_axis = np.append(x_axis, x[0])\n",
    "    y_axis = np.append(y_axis, y[0])\n",
    "    return x_axis, y_axis"
   ]
  },
  {
   "cell_type": "markdown",
   "metadata": {},
   "source": [
    "This function also takes an integer n as input and returns two arrays, x axis and y axis, which specify the vertices of a regular n-sided polygon. Here is how it works:\n",
    "\n",
    "To start, it uses the cornerPts(n) function to obtain the x and y coordinates of the n vertices of a regular n-sided polygon.\n",
    "The np.repeat method is then used to generate a closed polygon by repeating each coordinate twice.\n",
    "Lastly, it uses the np.append method to append the first coordinate to the end of the array, completing the polygon.\n",
    "The vertices of the regular polygon are defined by the resultant x_axis and y_axis arrays, which may be visualised using a tool such as Matplotlib."
   ]
  },
  {
   "cell_type": "code",
   "execution_count": 14,
   "metadata": {},
   "outputs": [],
   "source": [
    "def crssMap(n):\n",
    "    x,y=cornerPts(n)\n",
    "    x_axis=[]\n",
    "    y_axis=[]\n",
    "    x_axis.append(x[0])\n",
    "    y_axis.append(y[0])\n",
    "    i=1\n",
    "    while(i<n-1):\n",
    "        x_axis.append(x[i])\n",
    "        x_axis.append(x[i])\n",
    "        y_axis.append(y[i])\n",
    "        y_axis.append(y[i])\n",
    "        i=i+1\n",
    "\n",
    "    x_axis.append(x[n-1])\n",
    "    x_axis.append(x[0])\n",
    "\n",
    "    y_axis.append(y[n-1])\n",
    "    y_axis.append(y[0])\n",
    "\n",
    "    x_axis=np.array(x_axis)\n",
    "    y_axis=np.array(y_axis)\n",
    "    \n",
    "    return x_axis,y_axis\n"
   ]
  },
  {
   "cell_type": "markdown",
   "metadata": {},
   "source": [
    "This function takes an integer n as an input and provides two arrays, x_axis and y_axis. The function works like this:\n",
    "\n",
    "To start, it uses the cornerPts(n) function to obtain the x and y coordinates of n.\n",
    "\n",
    "It creates two empty lists, x axis and y axis, to store the x and y coordinates of a \"cross\" polygon's vertices.\n",
    "\n",
    "The first coordinate of the cornerPts(n) result is added to the x axis and y axis lists.\n",
    "\n",
    "The cross shape is then formed by looping through the n-1 remaining points.\n",
    "\n",
    "It adds the i-th x and y coordinate to the x axis and y axis lists twice for each point I in the loop, thus creating two horizontal and two vertical lines that cross at the centre of the polygon.\n",
    "\n",
    "After the loop, it adds the x and y coordinates of the final point to the x_axis and y_axis lists, then adds the x and y coordinates of the initial point to finish the polygon.\n",
    "\n",
    "Finally, the x_axis and y_axis lists are converted to NumPy arrays and returned as output.\n",
    "\n",
    "The vertices of the cross polygon are defined by the resultant x_axis and y_axis arrays, which may be visualised using a library such as Matplotlib.\n"
   ]
  },
  {
   "cell_type": "code",
   "execution_count": 15,
   "metadata": {},
   "outputs": [
    {
     "data": {
      "application/vnd.jupyter.widget-view+json": {
       "model_id": "f6065aaad5264b56974e565dd9c17da4",
       "version_major": 2,
       "version_minor": 0
      },
      "image/png": "[encoded data removed]",
      "text/html": [
       "\n",
       "            <div style=\"display: inline-block;\">\n",
       "                <div class=\"jupyter-widgets widget-label\" style=\"text-align: center;\">\n",
       "                    Figure\n",
       "                </div>\n",
       "                <img src='data:image/png;base64,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' width=640.0/>\n",
       "            </div>\n",
       "        "
      ],
      "text/plain": [
       "Canvas(toolbar=Toolbar(toolitems=[('Home', 'Reset original view', 'home', 'home'), ('Back', 'Back to previous …"
      ]
     },
     "metadata": {},
     "output_type": "display_data"
    }
   ],
   "source": [
    "\n",
    "fig, ax = plt.subplots()\n",
    "xval, yval = [], []\n",
    "ln, = ax.plot([], [], 'r')\n",
    "ax.set_aspect('equal',adjustable='box')\n",
    "\n",
    "\n",
    "def init():\n",
    "    ax.set_xlim(-1.5, 1.5)\n",
    "    ax.set_ylim(-1.5, 1.5)\n",
    "    return ln,\n",
    "\n",
    "def updatedVericals(frame):\n",
    "    xval, yval = morphedShape(frame)\n",
    "    ln.set_data(xval, yval)\n",
    "    return ln,\n",
    "\n",
    "def morphedShape(frame):\n",
    "    if frame < figNo:\n",
    "        n = int(frame)\n",
    "        x1, y1 = map(n+2)\n",
    "        x2, y2 = crssMap(n+3)\n",
    "    else:\n",
    "        n = int(frame)\n",
    "        x1, y1 = crssMap(2*figNo-n + 2)\n",
    "        x2, y2 = map(2*figNo-n + 1)\n",
    "    a = frame - n\n",
    "    xi = x1 + (x2 - x1) * a\n",
    "    yi = y1 + (y2 - y1) * a\n",
    "    return xi, yi\n",
    "\n",
    "figNo=6\n",
    "\n",
    "ani = FuncAnimation(fig, updatedVericals, frames=np.linspace(1, 2*figNo-1, (2*figNo-2)*50),\n",
    "                    init_func=init, blit=True, interval=10, repeat=False)\n",
    "plt.show()"
   ]
  },
  {
   "cell_type": "markdown",
   "metadata": {},
   "source": [
    "To creates an animation of a morphing shape that slowly morphs from a normal polygon to a cross polygon and back. The following is what the code does:\n",
    "\n",
    "It creates a new plot line ln and specifies a few variables to record the x and y values of the shape's vertices.\n",
    "\n",
    "It defines the function init(), which sets the x and y bounds of the plot and returns the first plot line.\n",
    "\n",
    "It specifies the function updatedVerticals(frame), which updates the ln plot line with the shape's vertices' new x and y values depending on the current animation frame number frame.\n",
    "\n",
    "Now defines the function morphedShape(frame), which calculates the shape's vertices' intermediate x and y values depending on the current animation frame number frame. Based on the current value of the frame, the function generates the initial and final forms using either the map(n) or crssMap(n) functions. The intermediate form is then calculated by mixing the two shapes with a parameter a ranging from 0 to 1.\n",
    "\n",
    "It sets the value of figNo to determine the number of sides of the regular polygon and generates an animation with Matplotlib's FuncAnimation function. For each frame of the animation, the updatedFrame function is run, and the resulting plot is presented with plt.show ().\n",
    "\n",
    "The value of figNo is set to 6 in this code because it specifies the regular polygon's side count, which is needed to create the animation's beginning and finishing shapes.\n",
    "The animation in this case has a total of 10 frames since (2*figNo-2)*50  frames and the regular polygon in this case has 8 sides because n+2 = 8 when n=6.\n",
    "\n",
    "The resulting animation demonstrates the form changing perfectly from a normal polygon to a cross polygon and back again. Animation of polygons shown."
   ]
  },
  {
   "cell_type": "code",
   "execution_count": null,
   "metadata": {},
   "outputs": [],
   "source": []
  }
 ],
 "metadata": {
  "author": "Keshaw Choudhary EE21B069",
  "kernelspec": {
   "display_name": "Python 3 (ipykernel)",
   "language": "python",
   "name": "python3"
  },
  "language_info": {
   "codemirror_mode": {
    "name": "ipython",
    "version": 3
   },
   "file_extension": ".py",
   "mimetype": "text/x-python",
   "name": "python",
   "nbconvert_exporter": "python",
   "pygments_lexer": "ipython3",
   "version": "3.9.13"
  }
 },
 "nbformat": 4,
 "nbformat_minor": 2
}
