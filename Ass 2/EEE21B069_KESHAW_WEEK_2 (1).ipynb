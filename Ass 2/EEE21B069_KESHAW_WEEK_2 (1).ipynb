{
 "cells": [
  {
   "cell_type": "markdown",
   "id": "5b45ec84",
   "metadata": {},
   "source": [
    "# Assignment\n",
    "\n",
    "The following are the problems you need to solve for this assignment.  You need to submit your code (either as standalone Python script or a Python notebook), a PDF document explaining your solution (either generated from the notebook or a separate LaTeX document), and any supporting files you may have (such as circuit netlists you used for testing your code)."
   ]
  },
  {
   "cell_type": "markdown",
   "id": "2df55324",
   "metadata": {},
   "source": [
    "  # Q1\n",
    "- Write a function to find the factorial of N (N being an input) and find the time taken to compute it.  This will obviously depend on where you run the code and which approach you use to implement the factorial.  Explain your observations briefly."
   ]
  },
  {
   "cell_type": "code",
   "execution_count": 12,
   "id": "f9a14c8f",
   "metadata": {},
   "outputs": [
    {
     "name": "stdout",
     "output_type": "stream",
     "text": [
      "Factorial: 120\n",
      "532 ns ± 90.6 ns per loop (mean ± std. dev. of 7 runs, 1000000 loops each)\n"
     ]
    }
   ],
   "source": [
    "def factorial(n):\n",
    "    result = 1\n",
    "    for i in range(1, n+1):\n",
    "        result *= i\n",
    "    return result\n",
    "\n",
    "n = int(input(\"Enter a number: \"))\n",
    "print(\"Factorial:\", factorial(n))\n",
    "%timeit factorial(n)"
   ]
  },
  {
   "cell_type": "markdown",
   "id": "8e894a70",
   "metadata": {},
   "source": [
    "The code defines the function \"factorial,\" which accepts a positive integer \"n\" as input and returns its factorial. The function computes the factorial by iterating through the range \"1\" to \"n+1\" and multiplying the \"result\" by each number in the range using a \"for\" loop.\n",
    "\n",
    "The \"%timeit\" line will run the factorial function several times and give the average execution time.\n",
    "The average execution time will be determined by various factors, including the machine's processing speed, the size of the input \"n\", and the efficiency of the implementation. When \"n\" is increased, the execution time might grow exceedingly long."
   ]
  },
  {
   "cell_type": "markdown",
   "id": "73ee65c4",
   "metadata": {},
   "source": [
    "# Q2\n",
    "- Write a linear equation solver that will take in matrices $A$ and $b$ as inputs, and return the vector $x$ that solves the equation $Ax=b$.  Your function should catch errors in the inputs and return suitable error messages for different possible problems.\n",
    "  - Time your solver to solve a random $10\\times 10$ system of equations.  Compare the time taken against the `numpy.linalg.solve` function for the same inputs."
   ]
  },
  {
   "cell_type": "code",
   "execution_count": 106,
   "id": "bf7a545a",
   "metadata": {},
   "outputs": [
    {
     "name": "stdout",
     "output_type": "stream",
     "text": [
      "Solution: [ 1.24666204 -0.43161225 -0.7130019   0.68684441 -0.17305501 -0.31376699\n",
      " -0.20565662  0.94017764 -0.66422659  0.6873433 ]\n"
     ]
    }
   ],
   "source": [
    "import numpy as np\n",
    "\n",
    "def linear_equation_solver(A, b):\n",
    "    try:\n",
    "        x = np.linalg.solve(A, b)\n",
    "    except np.linalg.LinAlgError as e:\n",
    "        if 'Singular matrix' in str(e):\n",
    "            return \"Error: Singular matrix - system has no unique solution\"\n",
    "        else:\n",
    "            return \"Error: \" + str(e)\n",
    "    return x\n",
    "\n",
    "A = np.random.rand(10,10)\n",
    "b = np.random.rand(10)\n",
    "x = linear_equation_solver(A, b)\n",
    "print(\"Solution:\", x)\n",
    "\n"
   ]
  },
  {
   "cell_type": "markdown",
   "id": "c4ca1039",
   "metadata": {},
   "source": [
    "Imports the \"numpy\" library as \"np\" and writes a function \"linear equation solver\" that accepts two inputs, a matrix \"A\" and a vector \"b\". Using the \"np.linalg.solve\" function, the function attempts to discover the solution x to the linear equation Ax = b. If an error occurs during the computation (for example, if A is a singular matrix), a custom error message containing details about the mistake is returned. Finally, a random matrix \"A\" and vector \"b\" are produced, and the \"linear equation solver\" function is used with these parameters to determine the answer \"x,\" which is then written to the console."
   ]
  },
  {
   "cell_type": "code",
   "execution_count": 14,
   "id": "112aee27",
   "metadata": {},
   "outputs": [
    {
     "name": "stdout",
     "output_type": "stream",
     "text": [
      "9.81 µs ± 186 ns per loop (mean ± std. dev. of 7 runs, 100000 loops each)\n"
     ]
    }
   ],
   "source": [
    "%timeit linear_equation_solver(A,b)"
   ]
  },
  {
   "cell_type": "code",
   "execution_count": 107,
   "id": "619fbd69",
   "metadata": {},
   "outputs": [
    {
     "name": "stdout",
     "output_type": "stream",
     "text": [
      "Solution: [-0.6459007941360819, 0.8877083694942148, 0.5470186300652807]\n"
     ]
    }
   ],
   "source": [
    "def linear_equation_solver1(A, b):\n",
    "    m = len(A)\n",
    "    n = len(A[0])\n",
    "    if m != n:\n",
    "        return \"Error: Matrix A must be square\"\n",
    "    if m != len(b):\n",
    "        return \"Error: Number of rows in A and b must match\"\n",
    "    \n",
    "    Ab = []\n",
    "    for i in range(m):\n",
    "        row = []\n",
    "        for j in range(n):\n",
    "            row.append(A[i][j])\n",
    "        row.append(b[i])\n",
    "        Ab.append(row)\n",
    "    \n",
    "    for i in range(n):\n",
    "        pivot = i\n",
    "        for j in range(i+1, n):\n",
    "            if abs(Ab[j][i]) > abs(Ab[pivot][i]):\n",
    "                pivot = j\n",
    "        if pivot != i:\n",
    "            Ab[i], Ab[pivot] = Ab[pivot], Ab[i]\n",
    "        if Ab[i][i] == 0:\n",
    "            return \"Error: Singular matrix - system has no unique solution\"\n",
    "        for j in range(i+1, n):\n",
    "            factor = Ab[j][i] / Ab[i][i]\n",
    "            for k in range(i, n+1):\n",
    "                Ab[j][k] = Ab[j][k] - factor * Ab[i][k]\n",
    "    \n",
    "    x = [0] * n\n",
    "    for i in range(n-1, -1, -1):\n",
    "        for j in range(i+1, n):\n",
    "            Ab[i][n] -= x[j] * Ab[i][j]\n",
    "        x[i] = Ab[i][n] / Ab[i][i]\n",
    "    return x\n",
    "\n",
    "\n",
    "N=int(input(\"Enter a number of Row/Column\"))\n",
    "A = np.random.rand(N,N)\n",
    "b = np.random.rand(N)\n",
    "x = linear_equation_solver1(A, b)\n",
    "print(\"Solution:\", x)\n",
    "\n"
   ]
  },
  {
   "cell_type": "code",
   "execution_count": 108,
   "id": "9dd577a5",
   "metadata": {},
   "outputs": [
    {
     "name": "stdout",
     "output_type": "stream",
     "text": [
      "12.8 µs ± 222 ns per loop (mean ± std. dev. of 7 runs, 100000 loops each)\n"
     ]
    }
   ],
   "source": [
    "%timeit linear_equation_solver1(A,b)"
   ]
  },
  {
   "cell_type": "markdown",
   "id": "ee0c4ca1",
   "metadata": {},
   "source": [
    "This code creates the function \"linear equation solver1,\" which solves a system of linear equations represented by a square matrix \"A\" and a vector \"b\" of length equal to the number of rows in \"A\". The function first determines if the matrix \"A\" is square and whether the number of rows in \"A\" and \"b\" match, and then produces an error message if either condition is not fulfilled.\n",
    "The function then generates an augmented matrix \"Ab\" by attaching the vector \"b\" to the right of \"A\". The matrix \"Ab\" is then reduced to row echelon form using Gaussian elimination. If throughout the elimination process, any pivot is determined to be zero, the method generates an error message indicating that the system has no unique solution.\n",
    "Finally, the function use back substitution to solve the system of linear equations and provides the result as a vector. The answer is validated by constructing a \"NxN\" matrix \"A\" and a vector \"b\" of length \"N\" with the \"numpy\" library and feeding them into the function as inputs. After then, the solution is printed."
   ]
  },
  {
   "cell_type": "markdown",
   "id": "d8a8be4b",
   "metadata": {},
   "source": [
    "# Q3\n",
    "- Given a circuit netlist in the form described above, read it in from a file, construct the appropriate matrices, and use the solver you have written above to obtain the voltages and currents in the circuit.  If you find AC circuits hard to handle, first do this for pure DC circuits, but you should be able to handle both voltage and current sources.\n"
   ]
  },
  {
   "cell_type": "code",
   "execution_count": 118,
   "id": "dfa65e95",
   "metadata": {},
   "outputs": [],
   "source": [
    "import numpy as np\n",
    "import cmath as cm\n",
    "\n",
    "\n",
    "pi=3.14159\n",
    "def circuit_solver(file_name):\n",
    "    with open(file_name, \"r\") as file:\n",
    "        Lines = file.read()\n",
    "        \n",
    "    circ = Lines.splitlines()\n",
    "\n",
    "    circ.remove('.circuit')\n",
    "    circ.remove('.end')\n",
    "\n",
    "    length = len(circ)\n",
    "    \n",
    "    resistor = []\n",
    "    inductor = []\n",
    "    capacitor=[]\n",
    "    voltage = []\n",
    "    current = []\n",
    "    nodes = []\n",
    "    frequencies = []\n",
    "\n",
    "\n",
    "    for line in circ:\n",
    "        l = line.split()\n",
    "        for i in range(1,3):\n",
    "            if(l[i] == 'GND'):\n",
    "                l[i] = '0' \n",
    "        if(l[0][0] == 'R'):\n",
    "            resistor.append([l[1], l[2], l[3]])\n",
    "            nodes.extend([l[1], l[2]])\n",
    "            \n",
    "        elif(l[0][0] == 'V'):\n",
    "            if(l[3] == 'dc'):\n",
    "                voltage.append([l[1], l[2], l[4], 0])\n",
    "                nodes.extend([l[1], l[2]])\n",
    "            elif(l[3] == 'ac'):\n",
    "                voltage.append([l[1], l[2], l[4], l[5]])\n",
    "                nodes.extend([l[1], l[2]])\n",
    "            \n",
    "        elif(l[0][0] == 'I'):\n",
    "            if(l[3] == 'dc'):\n",
    "                current.append([l[1], l[2], l[4], 0])\n",
    "                nodes.extend([l[1], l[2]])\n",
    "            elif(l[3] == 'ac'):\n",
    "                current.append([l[1], l[2], l[4], l[5]])\n",
    "                nodes.extend([l[1], l[2]])\n",
    "            \n",
    "        elif(l[0][0] == 'L'):\n",
    "            inductor.append([l[1], l[2], l[3]])\n",
    "            nodes.extend([l[1], l[2]])\n",
    "            \n",
    "        elif(l[0][0] == 'C'):\n",
    "            capacitor.append([l[1], l[2], l[3]])\n",
    "            nodes.extend([l[1], l[2]])\n",
    "            \n",
    "        elif(l[0] == '.ac'):\n",
    "            frequencies.append(l[2])\n",
    "            length = length-1\n",
    "        \n",
    "\n",
    "    frequency = list(set(frequencies))\n",
    "        \n",
    "    #Check for Multiple frequencies\n",
    "    if(len(frequency) >1):\n",
    "        print(\"Error: Multiple frequencies detected in the circuit, only a single frequency is allowed\")\n",
    "        \n",
    "    else:\n",
    "        nodes = list(set(nodes))\n",
    "        freq = np.array(frequency, dtype = float)\n",
    "        angu_freq=2*pi*freq\n",
    "\n",
    "        nodes.sort()\n",
    "\n",
    "        length1 = len(nodes)\n",
    "        l_curr = len(current)\n",
    "        l_vol = len(voltage)\n",
    "\n",
    "        res_array = np.array(resistor, dtype = float)\n",
    "        ind_array = np.array(inductor, dtype = float)\n",
    "        cap_array = np.array(capacitor, dtype = float)\n",
    "\n",
    "        A = np.zeros((length1+l_curr+l_vol-1 ,length1+l_curr+l_vol-1), dtype = complex)\n",
    "        b = np.zeros(length1+l_curr+l_vol-1, dtype = complex)\n",
    "\n",
    "        \n",
    "        #Now we add a resistive components in the matrix A\n",
    "        for i in range(1, length1):\n",
    "            for r in res_array:\n",
    "                if(r[0] == i):\n",
    "                    A[i-1][i-1] += float(1/r[2])\n",
    "                    if(r[1] != 0):\n",
    "                        A[i-1][int(r[1])-1] -= float(1/r[2])\n",
    "\n",
    "                if(r[1] == i):\n",
    "                    A[i-1][i-1] += float(1/r[2])\n",
    "                    if(r[0] != 0):\n",
    "                        A[i-1][int(r[0])-1] -= float(1/r[2])\n",
    "        \n",
    "        #Add a inductive components in matrix A\n",
    "        for j in range(1, length1):\n",
    "            for l in ind_array:\n",
    "                Xl = float((angu_freq)*(l[2]))\n",
    "                if(l[0] == j):\n",
    "                    A[j-1][j-1] += complex(0, Xl)\n",
    "                    if(l[1] != 0):\n",
    "                        A[j-1][int(l[1])-1] -= complex(0, Xl)\n",
    "\n",
    "                if(l[1] == j):\n",
    "                    A[j-1][j-1] += complex(0, Xl)\n",
    "                    if(l[0] != 0):\n",
    "                        A[j-1][int(l[0])-1] -= complex(0, Xl)\n",
    "                        \n",
    "        #Adding a inductive components in matrix A\n",
    "        for k in range(1, length1):\n",
    "            for c in cap_array:\n",
    "                Xc = -float(1/((angu_freq)*c[2]))          \n",
    "                if(c[0] == k):\n",
    "                    A[k-1][k-1] += complex(0, Xc)\n",
    "                    if(c[1] != 0):\n",
    "                        A[k-1][int(c[1])-1] -= complex(0, Xc)\n",
    "\n",
    "                if(c[1] == k):\n",
    "                    A[k-1][k-1] += complex(0, Xc)\n",
    "                    if(c[0] != 0):\n",
    "                        A[k-1][int(c[0])-1] -= complex(0, Xc)\n",
    "\n",
    "\n",
    "        diff = length1 - l_vol - l_curr\n",
    "                                \n",
    "        vol_array = np.array(voltage, dtype = float)\n",
    "        for v in vol_array:\n",
    "            if(v[0] != 0):\n",
    "                A[diff][int(v[0])-1] += 1\n",
    "            if(v[1] != 0):\n",
    "                A[diff][int(v[1])-1] += -1\n",
    "            b[diff] = cm.rect(v[2], v[3])\n",
    "\n",
    "            if(int(v[0]) != 0):\n",
    "                A[int(v[0])-1][length1-1] += 1\n",
    "            if(v[1] != 0):\n",
    "                A[int(v[1])-1][length1-1] -= 1\n",
    "\n",
    "            diff = diff+1\n",
    "\n",
    "        diff1 = length1 - l_curr\n",
    "        curr_array = np.array(current, dtype = float)\n",
    "        for i in curr_array:\n",
    "            A[diff1][length1-1] += 1\n",
    "            b[diff1] = cm.rect(i[2], i[3])\n",
    "\n",
    "            if(int(i[0]) != 0):\n",
    "                A[int(i[0])-1][length1-1] += 1\n",
    "            if(i[1] != 0):\n",
    "                A[int(i[1])-1][length1-1] -= 1\n",
    "\n",
    "            diff1 = diff1 + 1\n",
    "\n",
    "\n",
    "        voltage = np.linalg.solve(A, b)\n",
    "        voltage_phasor = []\n",
    "        \n",
    "        for val in range(length1):\n",
    "            voltage_phasor.append([cm.polar(x[val])])\n",
    "            \n",
    "        x_matrix = []\n",
    "        for i in range(1, length):\n",
    "            x_matrix.append(f\"n{i}\")\n",
    "\n",
    "        for i in range(1, l_vol+1):\n",
    "            x_matrix.append(f\"Iv{i}\")\n",
    "\n",
    "        for i in range(1, l_curr+1):\n",
    "            x_matrix.append(f\"Ii{i}\")\n",
    "        print(x_matrix, \" = \",  end = '')\n",
    "        \n",
    "        print(voltage)\n",
    "        print(voltage_phasor)\n",
    "\n"
   ]
  },
  {
   "cell_type": "markdown",
   "id": "d7507f4e",
   "metadata": {},
   "source": [
    "The code reads in an electrical circuit file and performs an analysis of it. The code first opens the file and reads in the lines into the \"Lines\" variable. It then splits the lines into a list \"circ\" by line. The code removes the \".circuit\" and \".end\" strings from the list.\n",
    "\n",
    "Next, the code initializes various lists to store different components in the circuit, such as resistors, inductors, capacitors, voltages, currents, and frequencies. The code loops through the lines in the \"circ\" list, splits each line into individual elements, and appends the components to their respective lists. The code also generates a list of nodes present in the circuit.\n",
    "\n",
    "The code then checks if there are multiple frequencies in the circuit and prints an error if that's the case. If there's only one frequency, the code sorts the nodes list and converts the lists of components into numpy arrays.\n",
    "\n",
    "The code then initializes an array \"A\" to store the impedance matrix and an array \"b\" to store the node voltages. The code adds resistive components to the matrix A by looping through the resistor array and updating the corresponding entries in the matrix. The code also adds inductive components to the matrix A by looping through the inductor array and updating the corresponding entries in the matrix.\n",
    "\n",
    "Similarly, the code adds capacitive components to the matrix A and the current sources to the matrix \"b\". Finally, the code returns the impedance matrix \"A\" and node voltages \"b\"."
   ]
  },
  {
   "cell_type": "code",
   "execution_count": 119,
   "id": "35124884",
   "metadata": {},
   "outputs": [
    {
     "name": "stdout",
     "output_type": "stream",
     "text": [
      "['n1', 'n2', 'n3', 'n4', 'n5', 'Iv1']  = [ 0.e+00+0.j  0.e+00+0.j  0.e+00+0.j -5.e+00-0.j -5.e-04-0.j]\n",
      "[[(0.0, 0.0)], [(0.0, 0.0)], [(0.0, 0.0)], [(5.0, -3.141592653589793)], [(0.0005, -3.141592653589793)]]\n",
      "None\n"
     ]
    }
   ],
   "source": [
    "circuit_file = input(\"Enter Your Netlist File\")\n",
    "# circuit_file=\"ckt1.netlist\"\n",
    "print(circuit_solver(circuit_file))"
   ]
  }
 ],
 "metadata": {
  "kernelspec": {
   "display_name": "Python 3 (ipykernel)",
   "language": "python",
   "name": "python3"
  },
  "language_info": {
   "codemirror_mode": {
    "name": "ipython",
    "version": 3
   },
   "file_extension": ".py",
   "mimetype": "text/x-python",
   "name": "python",
   "nbconvert_exporter": "python",
   "pygments_lexer": "ipython3",
   "version": "3.9.2"
  },
  "vscode": {
   "interpreter": {
    "hash": "31cd5e21c401483d6169611708e2a5f87512f4bfe719272ab706656b58c8f7d5"
   }
  }
 },
 "nbformat": 4,
 "nbformat_minor": 5
}
